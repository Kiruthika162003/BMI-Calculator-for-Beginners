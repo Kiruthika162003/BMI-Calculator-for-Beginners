{
  "nbformat": 4,
  "nbformat_minor": 0,
  "metadata": {
    "colab": {
      "name": "BMI CALCULATOR ",
      "provenance": []
    },
    "kernelspec": {
      "name": "python3",
      "display_name": "Python 3"
    },
    "language_info": {
      "name": "python"
    }
  },
  "cells": [
    {
      "cell_type": "code",
      "source": [
        "height = float(input(\"Enter your height in cm: \"))\n",
        "weight = float(input(\"Enter your weight in kg: \"))"
      ],
      "metadata": {
        "colab": {
          "base_uri": "https://localhost:8080/"
        },
        "id": "h1x-Yxp9ktzw",
        "outputId": "1e3fc2c7-6690-4361-e986-55afb034df38"
      },
      "execution_count": null,
      "outputs": [
        {
          "name": "stdout",
          "output_type": "stream",
          "text": [
            "Enter your height in cm: 160.5\n",
            "Enter your weight in kg: 51.130\n"
          ]
        }
      ]
    },
    {
      "cell_type": "code",
      "source": [
        "\n",
        "\n",
        "BMI = weight / (height/100)**2\n",
        "\n",
        "print(\"Your BMI is\",BMI)\n",
        "\n",
        "if BMI <= 18.4:\n",
        "    print(\"You are underweight!! Eat well.\")\n",
        "elif BMI <= 24.9:\n",
        "    print(\"You are healthy.Be fit as you are now\")\n",
        "elif BMI <= 29.9:\n",
        "    print(\"You are over weight.Avoid junk foods\")\n",
        "elif BMI <= 34.9:\n",
        "    print(\"You are severely over weight.Plan jogging\")\n",
        "elif BMI <= 39.9:\n",
        "    print(\"You are obese.Plan your diet\")\n",
        "else:\n",
        "    print(\"You are severely obese.Please visit dietician\")"
      ],
      "metadata": {
        "colab": {
          "base_uri": "https://localhost:8080/"
        },
        "id": "N7osBXH0mQCu",
        "outputId": "b381f213-e972-4db0-bc35-6d5d25357371"
      },
      "execution_count": null,
      "outputs": [
        {
          "output_type": "stream",
          "name": "stdout",
          "text": [
            "Your BMI is 19.848409856270806\n",
            "You are healthy.Be fit as you are now\n"
          ]
        }
      ]
    },
    {
      "cell_type": "code",
      "source": [
        ""
      ],
      "metadata": {
        "id": "b0h2E4ndnjkk"
      },
      "execution_count": null,
      "outputs": []
    }
  ]
}